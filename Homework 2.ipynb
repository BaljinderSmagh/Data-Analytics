{
 "cells": [
  {
   "cell_type": "code",
   "execution_count": 183,
   "metadata": {},
   "outputs": [],
   "source": [
    "ibm_data=read.csv(\"IBM-2.csv\")"
   ]
  },
  {
   "cell_type": "code",
   "execution_count": 184,
   "metadata": {},
   "outputs": [
    {
     "name": "stdout",
     "output_type": "stream",
     "text": [
      "'data.frame':\t251 obs. of  7 variables:\n",
      " $ Date     : Factor w/ 251 levels \"2018-01-02\",\"2018-01-03\",..: 1 2 3 4 5 6 7 8 9 10 ...\n",
      " $ Open     : num  154 157 160 162 163 ...\n",
      " $ High     : num  155 160 162 163 164 ...\n",
      " $ Low      : num  154 156 159 161 162 ...\n",
      " $ Close    : num  154 158 162 162 163 ...\n",
      " $ Adj.Close: num  139 143 146 147 148 ...\n",
      " $ Volume   : int  4202500 9441600 7556200 5195800 5237500 4341800 4174100 3794500 5031900 7794200 ...\n"
     ]
    },
    {
     "data": {
      "text/html": [
       "<table>\n",
       "<thead><tr><th scope=col>Date</th><th scope=col>Open</th><th scope=col>High</th><th scope=col>Low</th><th scope=col>Close</th><th scope=col>Adj.Close</th><th scope=col>Volume</th></tr></thead>\n",
       "<tbody>\n",
       "\t<tr><td>2018-01-02</td><td>154.50    </td><td>154.81    </td><td>153.54    </td><td>154.25    </td><td>139.3655  </td><td>4202500   </td></tr>\n",
       "\t<tr><td>2018-01-03</td><td>157.34    </td><td>159.81    </td><td>156.33    </td><td>158.49    </td><td>143.1963  </td><td>9441600   </td></tr>\n",
       "\t<tr><td>2018-01-04</td><td>159.65    </td><td>162.32    </td><td>159.37    </td><td>161.70    </td><td>146.0966  </td><td>7556200   </td></tr>\n",
       "\t<tr><td>2018-01-05</td><td>162.44    </td><td>162.90    </td><td>161.10    </td><td>162.49    </td><td>146.8103  </td><td>5195800   </td></tr>\n",
       "\t<tr><td>2018-01-08</td><td>162.66    </td><td>163.91    </td><td>161.70    </td><td>163.47    </td><td>147.6958  </td><td>5237500   </td></tr>\n",
       "\t<tr><td>2018-01-09</td><td>163.90    </td><td>164.53    </td><td>163.06    </td><td>163.83    </td><td>148.0210  </td><td>4341800   </td></tr>\n",
       "</tbody>\n",
       "</table>\n"
      ],
      "text/latex": [
       "\\begin{tabular}{r|lllllll}\n",
       " Date & Open & High & Low & Close & Adj.Close & Volume\\\\\n",
       "\\hline\n",
       "\t 2018-01-02 & 154.50     & 154.81     & 153.54     & 154.25     & 139.3655   & 4202500   \\\\\n",
       "\t 2018-01-03 & 157.34     & 159.81     & 156.33     & 158.49     & 143.1963   & 9441600   \\\\\n",
       "\t 2018-01-04 & 159.65     & 162.32     & 159.37     & 161.70     & 146.0966   & 7556200   \\\\\n",
       "\t 2018-01-05 & 162.44     & 162.90     & 161.10     & 162.49     & 146.8103   & 5195800   \\\\\n",
       "\t 2018-01-08 & 162.66     & 163.91     & 161.70     & 163.47     & 147.6958   & 5237500   \\\\\n",
       "\t 2018-01-09 & 163.90     & 164.53     & 163.06     & 163.83     & 148.0210   & 4341800   \\\\\n",
       "\\end{tabular}\n"
      ],
      "text/markdown": [
       "\n",
       "| Date | Open | High | Low | Close | Adj.Close | Volume |\n",
       "|---|---|---|---|---|---|---|\n",
       "| 2018-01-02 | 154.50     | 154.81     | 153.54     | 154.25     | 139.3655   | 4202500    |\n",
       "| 2018-01-03 | 157.34     | 159.81     | 156.33     | 158.49     | 143.1963   | 9441600    |\n",
       "| 2018-01-04 | 159.65     | 162.32     | 159.37     | 161.70     | 146.0966   | 7556200    |\n",
       "| 2018-01-05 | 162.44     | 162.90     | 161.10     | 162.49     | 146.8103   | 5195800    |\n",
       "| 2018-01-08 | 162.66     | 163.91     | 161.70     | 163.47     | 147.6958   | 5237500    |\n",
       "| 2018-01-09 | 163.90     | 164.53     | 163.06     | 163.83     | 148.0210   | 4341800    |\n",
       "\n"
      ],
      "text/plain": [
       "  Date       Open   High   Low    Close  Adj.Close Volume \n",
       "1 2018-01-02 154.50 154.81 153.54 154.25 139.3655  4202500\n",
       "2 2018-01-03 157.34 159.81 156.33 158.49 143.1963  9441600\n",
       "3 2018-01-04 159.65 162.32 159.37 161.70 146.0966  7556200\n",
       "4 2018-01-05 162.44 162.90 161.10 162.49 146.8103  5195800\n",
       "5 2018-01-08 162.66 163.91 161.70 163.47 147.6958  5237500\n",
       "6 2018-01-09 163.90 164.53 163.06 163.83 148.0210  4341800"
      ]
     },
     "metadata": {},
     "output_type": "display_data"
    }
   ],
   "source": [
    "str(ibm_data)\n",
    "head(ibm_data)"
   ]
  },
  {
   "cell_type": "code",
   "execution_count": 185,
   "metadata": {},
   "outputs": [
    {
     "data": {
      "text/html": [
       "<table>\n",
       "<thead><tr><th scope=col>Date</th><th scope=col>Open</th><th scope=col>High</th><th scope=col>Low</th><th scope=col>Close</th><th scope=col>Adj.Close</th><th scope=col>Volume</th></tr></thead>\n",
       "<tbody>\n",
       "\t<tr><td>2018-01-02</td><td>86.13     </td><td>86.31     </td><td>85.50     </td><td>85.95     </td><td>83.25638  </td><td>22483800  </td></tr>\n",
       "\t<tr><td>2018-01-03</td><td>86.06     </td><td>86.51     </td><td>85.97     </td><td>86.35     </td><td>83.64384  </td><td>26061400  </td></tr>\n",
       "\t<tr><td>2018-01-04</td><td>86.59     </td><td>87.66     </td><td>86.57     </td><td>87.11     </td><td>84.38003  </td><td>21912000  </td></tr>\n",
       "\t<tr><td>2018-01-05</td><td>87.66     </td><td>88.41     </td><td>87.43     </td><td>88.19     </td><td>85.42618  </td><td>23407100  </td></tr>\n",
       "\t<tr><td>2018-01-08</td><td>88.20     </td><td>88.58     </td><td>87.60     </td><td>88.28     </td><td>85.51336  </td><td>22113000  </td></tr>\n",
       "\t<tr><td>2018-01-09</td><td>88.65     </td><td>88.73     </td><td>87.86     </td><td>88.22     </td><td>85.45524  </td><td>19484300  </td></tr>\n",
       "</tbody>\n",
       "</table>\n"
      ],
      "text/latex": [
       "\\begin{tabular}{r|lllllll}\n",
       " Date & Open & High & Low & Close & Adj.Close & Volume\\\\\n",
       "\\hline\n",
       "\t 2018-01-02 & 86.13      & 86.31      & 85.50      & 85.95      & 83.25638   & 22483800  \\\\\n",
       "\t 2018-01-03 & 86.06      & 86.51      & 85.97      & 86.35      & 83.64384   & 26061400  \\\\\n",
       "\t 2018-01-04 & 86.59      & 87.66      & 86.57      & 87.11      & 84.38003   & 21912000  \\\\\n",
       "\t 2018-01-05 & 87.66      & 88.41      & 87.43      & 88.19      & 85.42618   & 23407100  \\\\\n",
       "\t 2018-01-08 & 88.20      & 88.58      & 87.60      & 88.28      & 85.51336   & 22113000  \\\\\n",
       "\t 2018-01-09 & 88.65      & 88.73      & 87.86      & 88.22      & 85.45524   & 19484300  \\\\\n",
       "\\end{tabular}\n"
      ],
      "text/markdown": [
       "\n",
       "| Date | Open | High | Low | Close | Adj.Close | Volume |\n",
       "|---|---|---|---|---|---|---|\n",
       "| 2018-01-02 | 86.13      | 86.31      | 85.50      | 85.95      | 83.25638   | 22483800   |\n",
       "| 2018-01-03 | 86.06      | 86.51      | 85.97      | 86.35      | 83.64384   | 26061400   |\n",
       "| 2018-01-04 | 86.59      | 87.66      | 86.57      | 87.11      | 84.38003   | 21912000   |\n",
       "| 2018-01-05 | 87.66      | 88.41      | 87.43      | 88.19      | 85.42618   | 23407100   |\n",
       "| 2018-01-08 | 88.20      | 88.58      | 87.60      | 88.28      | 85.51336   | 22113000   |\n",
       "| 2018-01-09 | 88.65      | 88.73      | 87.86      | 88.22      | 85.45524   | 19484300   |\n",
       "\n"
      ],
      "text/plain": [
       "  Date       Open  High  Low   Close Adj.Close Volume  \n",
       "1 2018-01-02 86.13 86.31 85.50 85.95 83.25638  22483800\n",
       "2 2018-01-03 86.06 86.51 85.97 86.35 83.64384  26061400\n",
       "3 2018-01-04 86.59 87.66 86.57 87.11 84.38003  21912000\n",
       "4 2018-01-05 87.66 88.41 87.43 88.19 85.42618  23407100\n",
       "5 2018-01-08 88.20 88.58 87.60 88.28 85.51336  22113000\n",
       "6 2018-01-09 88.65 88.73 87.86 88.22 85.45524  19484300"
      ]
     },
     "metadata": {},
     "output_type": "display_data"
    }
   ],
   "source": [
    "msft_data=read.csv(\"MSFT.csv\")\n",
    "head(msft_data)"
   ]
  },
  {
   "cell_type": "code",
   "execution_count": 186,
   "metadata": {},
   "outputs": [
    {
     "data": {
      "text/html": [
       "<table>\n",
       "<thead><tr><th scope=col>Date</th><th scope=col>Open</th><th scope=col>High</th><th scope=col>Low</th><th scope=col>Close</th><th scope=col>Adj.Close</th><th scope=col>Volume</th></tr></thead>\n",
       "<tbody>\n",
       "\t<tr><td>2018-01-02</td><td>1048.34   </td><td>1066.94   </td><td>1045.230  </td><td>1065.00   </td><td>1065.00   </td><td>1237600   </td></tr>\n",
       "\t<tr><td>2018-01-03</td><td>1064.31   </td><td>1086.29   </td><td>1063.210  </td><td>1082.48   </td><td>1082.48   </td><td>1430200   </td></tr>\n",
       "\t<tr><td>2018-01-04</td><td>1088.00   </td><td>1093.57   </td><td>1084.002  </td><td>1086.40   </td><td>1086.40   </td><td>1004600   </td></tr>\n",
       "\t<tr><td>2018-01-05</td><td>1094.00   </td><td>1104.25   </td><td>1092.000  </td><td>1102.23   </td><td>1102.23   </td><td>1279100   </td></tr>\n",
       "\t<tr><td>2018-01-08</td><td>1102.23   </td><td>1111.27   </td><td>1101.620  </td><td>1106.94   </td><td>1106.94   </td><td>1047600   </td></tr>\n",
       "\t<tr><td>2018-01-09</td><td>1109.40   </td><td>1110.57   </td><td>1101.231  </td><td>1106.26   </td><td>1106.26   </td><td> 902500   </td></tr>\n",
       "</tbody>\n",
       "</table>\n"
      ],
      "text/latex": [
       "\\begin{tabular}{r|lllllll}\n",
       " Date & Open & High & Low & Close & Adj.Close & Volume\\\\\n",
       "\\hline\n",
       "\t 2018-01-02 & 1048.34    & 1066.94    & 1045.230   & 1065.00    & 1065.00    & 1237600   \\\\\n",
       "\t 2018-01-03 & 1064.31    & 1086.29    & 1063.210   & 1082.48    & 1082.48    & 1430200   \\\\\n",
       "\t 2018-01-04 & 1088.00    & 1093.57    & 1084.002   & 1086.40    & 1086.40    & 1004600   \\\\\n",
       "\t 2018-01-05 & 1094.00    & 1104.25    & 1092.000   & 1102.23    & 1102.23    & 1279100   \\\\\n",
       "\t 2018-01-08 & 1102.23    & 1111.27    & 1101.620   & 1106.94    & 1106.94    & 1047600   \\\\\n",
       "\t 2018-01-09 & 1109.40    & 1110.57    & 1101.231   & 1106.26    & 1106.26    &  902500   \\\\\n",
       "\\end{tabular}\n"
      ],
      "text/markdown": [
       "\n",
       "| Date | Open | High | Low | Close | Adj.Close | Volume |\n",
       "|---|---|---|---|---|---|---|\n",
       "| 2018-01-02 | 1048.34    | 1066.94    | 1045.230   | 1065.00    | 1065.00    | 1237600    |\n",
       "| 2018-01-03 | 1064.31    | 1086.29    | 1063.210   | 1082.48    | 1082.48    | 1430200    |\n",
       "| 2018-01-04 | 1088.00    | 1093.57    | 1084.002   | 1086.40    | 1086.40    | 1004600    |\n",
       "| 2018-01-05 | 1094.00    | 1104.25    | 1092.000   | 1102.23    | 1102.23    | 1279100    |\n",
       "| 2018-01-08 | 1102.23    | 1111.27    | 1101.620   | 1106.94    | 1106.94    | 1047600    |\n",
       "| 2018-01-09 | 1109.40    | 1110.57    | 1101.231   | 1106.26    | 1106.26    |  902500    |\n",
       "\n"
      ],
      "text/plain": [
       "  Date       Open    High    Low      Close   Adj.Close Volume \n",
       "1 2018-01-02 1048.34 1066.94 1045.230 1065.00 1065.00   1237600\n",
       "2 2018-01-03 1064.31 1086.29 1063.210 1082.48 1082.48   1430200\n",
       "3 2018-01-04 1088.00 1093.57 1084.002 1086.40 1086.40   1004600\n",
       "4 2018-01-05 1094.00 1104.25 1092.000 1102.23 1102.23   1279100\n",
       "5 2018-01-08 1102.23 1111.27 1101.620 1106.94 1106.94   1047600\n",
       "6 2018-01-09 1109.40 1110.57 1101.231 1106.26 1106.26    902500"
      ]
     },
     "metadata": {},
     "output_type": "display_data"
    }
   ],
   "source": [
    "goog_data=read.csv(\"GOOG.csv\")\n",
    "head(goog_data)"
   ]
  },
  {
   "cell_type": "code",
   "execution_count": 187,
   "metadata": {},
   "outputs": [
    {
     "data": {
      "text/html": [
       "<table>\n",
       "<thead><tr><th scope=col>Date</th><th scope=col>Open</th><th scope=col>High</th><th scope=col>Low</th><th scope=col>Close</th><th scope=col>Adj.Close</th><th scope=col>Volume</th></tr></thead>\n",
       "<tbody>\n",
       "\t<tr><td>2018-01-02</td><td>170.16    </td><td>172.30    </td><td>169.26    </td><td>172.26    </td><td>166.8040  </td><td>25555900  </td></tr>\n",
       "\t<tr><td>2018-01-03</td><td>172.53    </td><td>174.55    </td><td>171.96    </td><td>172.23    </td><td>166.7750  </td><td>29517900  </td></tr>\n",
       "\t<tr><td>2018-01-04</td><td>172.54    </td><td>173.47    </td><td>172.08    </td><td>173.03    </td><td>167.5496  </td><td>22434600  </td></tr>\n",
       "\t<tr><td>2018-01-05</td><td>173.44    </td><td>175.37    </td><td>173.05    </td><td>175.00    </td><td>169.4572  </td><td>23660000  </td></tr>\n",
       "\t<tr><td>2018-01-08</td><td>174.35    </td><td>175.61    </td><td>173.93    </td><td>174.35    </td><td>168.8278  </td><td>20567800  </td></tr>\n",
       "\t<tr><td>2018-01-09</td><td>174.55    </td><td>175.06    </td><td>173.41    </td><td>174.33    </td><td>168.8085  </td><td>21584000  </td></tr>\n",
       "</tbody>\n",
       "</table>\n"
      ],
      "text/latex": [
       "\\begin{tabular}{r|lllllll}\n",
       " Date & Open & High & Low & Close & Adj.Close & Volume\\\\\n",
       "\\hline\n",
       "\t 2018-01-02 & 170.16     & 172.30     & 169.26     & 172.26     & 166.8040   & 25555900  \\\\\n",
       "\t 2018-01-03 & 172.53     & 174.55     & 171.96     & 172.23     & 166.7750   & 29517900  \\\\\n",
       "\t 2018-01-04 & 172.54     & 173.47     & 172.08     & 173.03     & 167.5496   & 22434600  \\\\\n",
       "\t 2018-01-05 & 173.44     & 175.37     & 173.05     & 175.00     & 169.4572   & 23660000  \\\\\n",
       "\t 2018-01-08 & 174.35     & 175.61     & 173.93     & 174.35     & 168.8278   & 20567800  \\\\\n",
       "\t 2018-01-09 & 174.55     & 175.06     & 173.41     & 174.33     & 168.8085   & 21584000  \\\\\n",
       "\\end{tabular}\n"
      ],
      "text/markdown": [
       "\n",
       "| Date | Open | High | Low | Close | Adj.Close | Volume |\n",
       "|---|---|---|---|---|---|---|\n",
       "| 2018-01-02 | 170.16     | 172.30     | 169.26     | 172.26     | 166.8040   | 25555900   |\n",
       "| 2018-01-03 | 172.53     | 174.55     | 171.96     | 172.23     | 166.7750   | 29517900   |\n",
       "| 2018-01-04 | 172.54     | 173.47     | 172.08     | 173.03     | 167.5496   | 22434600   |\n",
       "| 2018-01-05 | 173.44     | 175.37     | 173.05     | 175.00     | 169.4572   | 23660000   |\n",
       "| 2018-01-08 | 174.35     | 175.61     | 173.93     | 174.35     | 168.8278   | 20567800   |\n",
       "| 2018-01-09 | 174.55     | 175.06     | 173.41     | 174.33     | 168.8085   | 21584000   |\n",
       "\n"
      ],
      "text/plain": [
       "  Date       Open   High   Low    Close  Adj.Close Volume  \n",
       "1 2018-01-02 170.16 172.30 169.26 172.26 166.8040  25555900\n",
       "2 2018-01-03 172.53 174.55 171.96 172.23 166.7750  29517900\n",
       "3 2018-01-04 172.54 173.47 172.08 173.03 167.5496  22434600\n",
       "4 2018-01-05 173.44 175.37 173.05 175.00 169.4572  23660000\n",
       "5 2018-01-08 174.35 175.61 173.93 174.35 168.8278  20567800\n",
       "6 2018-01-09 174.55 175.06 173.41 174.33 168.8085  21584000"
      ]
     },
     "metadata": {},
     "output_type": "display_data"
    }
   ],
   "source": [
    "aapl_data=read.csv(\"AAPL.csv\")\n",
    "head(aapl_data)"
   ]
  },
  {
   "cell_type": "code",
   "execution_count": 188,
   "metadata": {},
   "outputs": [
    {
     "data": {
      "text/html": [
       "<table>\n",
       "<thead><tr><th scope=col>Date</th><th scope=col>Open</th><th scope=col>High</th><th scope=col>Low</th><th scope=col>Close</th><th scope=col>Adj.Close</th><th scope=col>Volume</th></tr></thead>\n",
       "<tbody>\n",
       "\t<tr><td>2018-01-02</td><td>1172.00   </td><td>1190.00   </td><td>1170.51   </td><td>1189.01   </td><td>1189.01   </td><td>2694500   </td></tr>\n",
       "\t<tr><td>2018-01-03</td><td>1188.30   </td><td>1205.49   </td><td>1188.30   </td><td>1204.20   </td><td>1204.20   </td><td>3108800   </td></tr>\n",
       "\t<tr><td>2018-01-04</td><td>1205.00   </td><td>1215.87   </td><td>1204.66   </td><td>1209.59   </td><td>1209.59   </td><td>3022100   </td></tr>\n",
       "\t<tr><td>2018-01-05</td><td>1217.51   </td><td>1229.14   </td><td>1210.00   </td><td>1229.14   </td><td>1229.14   </td><td>3544700   </td></tr>\n",
       "\t<tr><td>2018-01-08</td><td>1236.00   </td><td>1253.08   </td><td>1232.03   </td><td>1246.87   </td><td>1246.87   </td><td>4279500   </td></tr>\n",
       "\t<tr><td>2018-01-09</td><td>1256.90   </td><td>1259.33   </td><td>1241.76   </td><td>1252.70   </td><td>1252.70   </td><td>3661300   </td></tr>\n",
       "</tbody>\n",
       "</table>\n"
      ],
      "text/latex": [
       "\\begin{tabular}{r|lllllll}\n",
       " Date & Open & High & Low & Close & Adj.Close & Volume\\\\\n",
       "\\hline\n",
       "\t 2018-01-02 & 1172.00    & 1190.00    & 1170.51    & 1189.01    & 1189.01    & 2694500   \\\\\n",
       "\t 2018-01-03 & 1188.30    & 1205.49    & 1188.30    & 1204.20    & 1204.20    & 3108800   \\\\\n",
       "\t 2018-01-04 & 1205.00    & 1215.87    & 1204.66    & 1209.59    & 1209.59    & 3022100   \\\\\n",
       "\t 2018-01-05 & 1217.51    & 1229.14    & 1210.00    & 1229.14    & 1229.14    & 3544700   \\\\\n",
       "\t 2018-01-08 & 1236.00    & 1253.08    & 1232.03    & 1246.87    & 1246.87    & 4279500   \\\\\n",
       "\t 2018-01-09 & 1256.90    & 1259.33    & 1241.76    & 1252.70    & 1252.70    & 3661300   \\\\\n",
       "\\end{tabular}\n"
      ],
      "text/markdown": [
       "\n",
       "| Date | Open | High | Low | Close | Adj.Close | Volume |\n",
       "|---|---|---|---|---|---|---|\n",
       "| 2018-01-02 | 1172.00    | 1190.00    | 1170.51    | 1189.01    | 1189.01    | 2694500    |\n",
       "| 2018-01-03 | 1188.30    | 1205.49    | 1188.30    | 1204.20    | 1204.20    | 3108800    |\n",
       "| 2018-01-04 | 1205.00    | 1215.87    | 1204.66    | 1209.59    | 1209.59    | 3022100    |\n",
       "| 2018-01-05 | 1217.51    | 1229.14    | 1210.00    | 1229.14    | 1229.14    | 3544700    |\n",
       "| 2018-01-08 | 1236.00    | 1253.08    | 1232.03    | 1246.87    | 1246.87    | 4279500    |\n",
       "| 2018-01-09 | 1256.90    | 1259.33    | 1241.76    | 1252.70    | 1252.70    | 3661300    |\n",
       "\n"
      ],
      "text/plain": [
       "  Date       Open    High    Low     Close   Adj.Close Volume \n",
       "1 2018-01-02 1172.00 1190.00 1170.51 1189.01 1189.01   2694500\n",
       "2 2018-01-03 1188.30 1205.49 1188.30 1204.20 1204.20   3108800\n",
       "3 2018-01-04 1205.00 1215.87 1204.66 1209.59 1209.59   3022100\n",
       "4 2018-01-05 1217.51 1229.14 1210.00 1229.14 1229.14   3544700\n",
       "5 2018-01-08 1236.00 1253.08 1232.03 1246.87 1246.87   4279500\n",
       "6 2018-01-09 1256.90 1259.33 1241.76 1252.70 1252.70   3661300"
      ]
     },
     "metadata": {},
     "output_type": "display_data"
    }
   ],
   "source": [
    "amzn_data=read.csv(\"AMZN.csv\")\n",
    "head(amzn_data)"
   ]
  },
  {
   "cell_type": "code",
   "execution_count": 189,
   "metadata": {},
   "outputs": [
    {
     "data": {
      "text/html": [
       "<table>\n",
       "<thead><tr><th scope=col>Date</th><th scope=col>Open</th><th scope=col>High</th><th scope=col>Low</th><th scope=col>Close</th><th scope=col>Adj.Close</th><th scope=col>Volume</th></tr></thead>\n",
       "<tbody>\n",
       "\t<tr><td>2018-01-02</td><td>177.68    </td><td>181.58    </td><td>177.55    </td><td>181.42    </td><td>181.42    </td><td>18151900  </td></tr>\n",
       "\t<tr><td>2018-01-03</td><td>181.88    </td><td>184.78    </td><td>181.33    </td><td>184.67    </td><td>184.67    </td><td>16886600  </td></tr>\n",
       "\t<tr><td>2018-01-04</td><td>184.90    </td><td>186.21    </td><td>184.10    </td><td>184.33    </td><td>184.33    </td><td>13880900  </td></tr>\n",
       "\t<tr><td>2018-01-05</td><td>185.59    </td><td>186.90    </td><td>184.93    </td><td>186.85    </td><td>186.85    </td><td>13574500  </td></tr>\n",
       "\t<tr><td>2018-01-08</td><td>187.20    </td><td>188.90    </td><td>186.33    </td><td>188.28    </td><td>188.28    </td><td>17994700  </td></tr>\n",
       "\t<tr><td>2018-01-09</td><td>188.70    </td><td>188.80    </td><td>187.10    </td><td>187.87    </td><td>187.87    </td><td>12393100  </td></tr>\n",
       "</tbody>\n",
       "</table>\n"
      ],
      "text/latex": [
       "\\begin{tabular}{r|lllllll}\n",
       " Date & Open & High & Low & Close & Adj.Close & Volume\\\\\n",
       "\\hline\n",
       "\t 2018-01-02 & 177.68     & 181.58     & 177.55     & 181.42     & 181.42     & 18151900  \\\\\n",
       "\t 2018-01-03 & 181.88     & 184.78     & 181.33     & 184.67     & 184.67     & 16886600  \\\\\n",
       "\t 2018-01-04 & 184.90     & 186.21     & 184.10     & 184.33     & 184.33     & 13880900  \\\\\n",
       "\t 2018-01-05 & 185.59     & 186.90     & 184.93     & 186.85     & 186.85     & 13574500  \\\\\n",
       "\t 2018-01-08 & 187.20     & 188.90     & 186.33     & 188.28     & 188.28     & 17994700  \\\\\n",
       "\t 2018-01-09 & 188.70     & 188.80     & 187.10     & 187.87     & 187.87     & 12393100  \\\\\n",
       "\\end{tabular}\n"
      ],
      "text/markdown": [
       "\n",
       "| Date | Open | High | Low | Close | Adj.Close | Volume |\n",
       "|---|---|---|---|---|---|---|\n",
       "| 2018-01-02 | 177.68     | 181.58     | 177.55     | 181.42     | 181.42     | 18151900   |\n",
       "| 2018-01-03 | 181.88     | 184.78     | 181.33     | 184.67     | 184.67     | 16886600   |\n",
       "| 2018-01-04 | 184.90     | 186.21     | 184.10     | 184.33     | 184.33     | 13880900   |\n",
       "| 2018-01-05 | 185.59     | 186.90     | 184.93     | 186.85     | 186.85     | 13574500   |\n",
       "| 2018-01-08 | 187.20     | 188.90     | 186.33     | 188.28     | 188.28     | 17994700   |\n",
       "| 2018-01-09 | 188.70     | 188.80     | 187.10     | 187.87     | 187.87     | 12393100   |\n",
       "\n"
      ],
      "text/plain": [
       "  Date       Open   High   Low    Close  Adj.Close Volume  \n",
       "1 2018-01-02 177.68 181.58 177.55 181.42 181.42    18151900\n",
       "2 2018-01-03 181.88 184.78 181.33 184.67 184.67    16886600\n",
       "3 2018-01-04 184.90 186.21 184.10 184.33 184.33    13880900\n",
       "4 2018-01-05 185.59 186.90 184.93 186.85 186.85    13574500\n",
       "5 2018-01-08 187.20 188.90 186.33 188.28 188.28    17994700\n",
       "6 2018-01-09 188.70 188.80 187.10 187.87 187.87    12393100"
      ]
     },
     "metadata": {},
     "output_type": "display_data"
    }
   ],
   "source": [
    "fb_data=read.csv(\"FB.csv\")\n",
    "head(fb_data)"
   ]
  },
  {
   "cell_type": "code",
   "execution_count": 190,
   "metadata": {},
   "outputs": [
    {
     "data": {
      "text/html": [
       "<table>\n",
       "<thead><tr><th scope=col>ibm_data$Adj.Close</th></tr></thead>\n",
       "<tbody>\n",
       "\t<tr><td>139.3655</td></tr>\n",
       "\t<tr><td>143.1963</td></tr>\n",
       "\t<tr><td>146.0966</td></tr>\n",
       "\t<tr><td>146.8103</td></tr>\n",
       "\t<tr><td>147.6958</td></tr>\n",
       "\t<tr><td>148.0210</td></tr>\n",
       "</tbody>\n",
       "</table>\n"
      ],
      "text/latex": [
       "\\begin{tabular}{r|l}\n",
       " ibm\\_data\\$Adj.Close\\\\\n",
       "\\hline\n",
       "\t 139.3655\\\\\n",
       "\t 143.1963\\\\\n",
       "\t 146.0966\\\\\n",
       "\t 146.8103\\\\\n",
       "\t 147.6958\\\\\n",
       "\t 148.0210\\\\\n",
       "\\end{tabular}\n"
      ],
      "text/markdown": [
       "\n",
       "| ibm_data$Adj.Close |\n",
       "|---|\n",
       "| 139.3655 |\n",
       "| 143.1963 |\n",
       "| 146.0966 |\n",
       "| 146.8103 |\n",
       "| 147.6958 |\n",
       "| 148.0210 |\n",
       "\n"
      ],
      "text/plain": [
       "  ibm_data$Adj.Close\n",
       "1 139.3655          \n",
       "2 143.1963          \n",
       "3 146.0966          \n",
       "4 146.8103          \n",
       "5 147.6958          \n",
       "6 148.0210          "
      ]
     },
     "metadata": {},
     "output_type": "display_data"
    }
   ],
   "source": [
    "ibm_data<-as.data.frame(ibm_data$Adj.Close)\n",
    "head(ibm_data)"
   ]
  },
  {
   "cell_type": "code",
   "execution_count": 191,
   "metadata": {},
   "outputs": [
    {
     "data": {
      "text/html": [
       "<table>\n",
       "<thead><tr><th></th><th scope=col>ibm_data$Adj.Close</th></tr></thead>\n",
       "<tbody>\n",
       "\t<tr><th scope=row>246</th><td>104.7685</td></tr>\n",
       "\t<tr><th scope=row>247</th><td>101.5860</td></tr>\n",
       "\t<tr><th scope=row>248</th><td>105.1935</td></tr>\n",
       "\t<tr><th scope=row>249</th><td>107.4505</td></tr>\n",
       "\t<tr><th scope=row>250</th><td>106.7423</td></tr>\n",
       "\t<tr><th scope=row>251</th><td>107.3467</td></tr>\n",
       "</tbody>\n",
       "</table>\n"
      ],
      "text/latex": [
       "\\begin{tabular}{r|l}\n",
       "  & ibm\\_data\\$Adj.Close\\\\\n",
       "\\hline\n",
       "\t246 & 104.7685\\\\\n",
       "\t247 & 101.5860\\\\\n",
       "\t248 & 105.1935\\\\\n",
       "\t249 & 107.4505\\\\\n",
       "\t250 & 106.7423\\\\\n",
       "\t251 & 107.3467\\\\\n",
       "\\end{tabular}\n"
      ],
      "text/markdown": [
       "\n",
       "| <!--/--> | ibm_data$Adj.Close |\n",
       "|---|---|\n",
       "| 246 | 104.7685 |\n",
       "| 247 | 101.5860 |\n",
       "| 248 | 105.1935 |\n",
       "| 249 | 107.4505 |\n",
       "| 250 | 106.7423 |\n",
       "| 251 | 107.3467 |\n",
       "\n"
      ],
      "text/plain": [
       "    ibm_data$Adj.Close\n",
       "246 104.7685          \n",
       "247 101.5860          \n",
       "248 105.1935          \n",
       "249 107.4505          \n",
       "250 106.7423          \n",
       "251 107.3467          "
      ]
     },
     "metadata": {},
     "output_type": "display_data"
    }
   ],
   "source": [
    "tail(ibm_data)"
   ]
  },
  {
   "cell_type": "code",
   "execution_count": 192,
   "metadata": {},
   "outputs": [
    {
     "data": {
      "text/html": [
       "'list'"
      ],
      "text/latex": [
       "'list'"
      ],
      "text/markdown": [
       "'list'"
      ],
      "text/plain": [
       "[1] \"list\""
      ]
     },
     "metadata": {},
     "output_type": "display_data"
    }
   ],
   "source": [
    "typeof(ibm_data)"
   ]
  },
  {
   "cell_type": "code",
   "execution_count": 193,
   "metadata": {},
   "outputs": [
    {
     "name": "stdout",
     "output_type": "stream",
     "text": [
      "'data.frame':\t251 obs. of  1 variable:\n",
      " $ ibm_data$Adj.Close: num  139 143 146 147 148 ...\n"
     ]
    }
   ],
   "source": [
    "str(ibm_data)"
   ]
  },
  {
   "cell_type": "code",
   "execution_count": 194,
   "metadata": {},
   "outputs": [],
   "source": [
    "msft_data<-as.data.frame(msft_data$Adj.Close)\n",
    "goog_data<-as.data.frame(goog_data$Adj.Close)\n",
    "aapl_data<-as.data.frame(aapl_data$Adj.Close)\n",
    "amzn_data<-as.data.frame(amzn_data$Adj.Close)\n",
    "fb_data<-as.data.frame(fb_data$Adj.Close)"
   ]
  },
  {
   "cell_type": "code",
   "execution_count": 195,
   "metadata": {},
   "outputs": [
    {
     "data": {
      "text/html": [
       "<table>\n",
       "<thead><tr><th scope=col>MSFT</th></tr></thead>\n",
       "<tbody>\n",
       "\t<tr><td>83.25638</td></tr>\n",
       "\t<tr><td>83.64384</td></tr>\n",
       "\t<tr><td>84.38003</td></tr>\n",
       "\t<tr><td>85.42618</td></tr>\n",
       "\t<tr><td>85.51336</td></tr>\n",
       "\t<tr><td>85.45524</td></tr>\n",
       "</tbody>\n",
       "</table>\n"
      ],
      "text/latex": [
       "\\begin{tabular}{r|l}\n",
       " MSFT\\\\\n",
       "\\hline\n",
       "\t 83.25638\\\\\n",
       "\t 83.64384\\\\\n",
       "\t 84.38003\\\\\n",
       "\t 85.42618\\\\\n",
       "\t 85.51336\\\\\n",
       "\t 85.45524\\\\\n",
       "\\end{tabular}\n"
      ],
      "text/markdown": [
       "\n",
       "| MSFT |\n",
       "|---|\n",
       "| 83.25638 |\n",
       "| 83.64384 |\n",
       "| 84.38003 |\n",
       "| 85.42618 |\n",
       "| 85.51336 |\n",
       "| 85.45524 |\n",
       "\n"
      ],
      "text/plain": [
       "  MSFT    \n",
       "1 83.25638\n",
       "2 83.64384\n",
       "3 84.38003\n",
       "4 85.42618\n",
       "5 85.51336\n",
       "6 85.45524"
      ]
     },
     "metadata": {},
     "output_type": "display_data"
    }
   ],
   "source": [
    "names(ibm_data)[1]<-\"IBM\"\n",
    "names(msft_data)[1]<-\"MSFT\"\n",
    "head(msft_data)\n",
    "names(goog_data)[1]<-\"GOOG\"\n",
    "names(aapl_data)[1]<-\"AAPL\"\n",
    "names(amzn_data)[1]<-\"AMZN\"\n",
    "names(fb_data)[1]<-\"FB\""
   ]
  },
  {
   "cell_type": "code",
   "execution_count": 196,
   "metadata": {},
   "outputs": [
    {
     "name": "stdout",
     "output_type": "stream",
     "text": [
      "'data.frame':\t251 obs. of  1 variable:\n",
      " $ IBM: num  139 143 146 147 148 ...\n",
      "'data.frame':\t251 obs. of  1 variable:\n",
      " $ MSFT: num  83.3 83.6 84.4 85.4 85.5 ...\n",
      "'data.frame':\t251 obs. of  1 variable:\n",
      " $ GOOG: num  1065 1082 1086 1102 1107 ...\n",
      "'data.frame':\t251 obs. of  1 variable:\n",
      " $ AAPL: num  167 167 168 169 169 ...\n",
      "'data.frame':\t251 obs. of  1 variable:\n",
      " $ AMZN: num  1189 1204 1210 1229 1247 ...\n",
      "'data.frame':\t251 obs. of  1 variable:\n",
      " $ FB: num  181 185 184 187 188 ...\n"
     ]
    },
    {
     "data": {
      "text/html": [
       "'list'"
      ],
      "text/latex": [
       "'list'"
      ],
      "text/markdown": [
       "'list'"
      ],
      "text/plain": [
       "[1] \"list\""
      ]
     },
     "metadata": {},
     "output_type": "display_data"
    }
   ],
   "source": [
    "str(ibm_data)\n",
    "str(msft_data)\n",
    "str(goog_data)\n",
    "str(aapl_data)\n",
    "str(amzn_data)\n",
    "str(fb_data)\n",
    "typeof(ibm_data)"
   ]
  },
  {
   "cell_type": "code",
   "execution_count": 197,
   "metadata": {},
   "outputs": [],
   "source": [
    "first_term <- function(x,y){\n",
    "    first=0\n",
    "    deno_1=0\n",
    "    deno_2=0\n",
    "    z=0\n",
    "    mean_x=colMeans(x,na.rm=TRUE)\n",
    "    mean_y=colMeans(y,na.rm=TRUE)\n",
    "    for (i in 1:251){\n",
    "        \n",
    "        first=first+((x[i,1]-mean_x)*(y[i,1]-mean_y))\n",
    "    }\n",
    "    for (i in 1:251){\n",
    "        deno_1=deno_1+((x[i,1]-mean_x)**2)\n",
    "        deno_2=deno_2+((y[i,1]-mean_y)**2)\n",
    "    }\n",
    "    z=first/sqrt(deno_1*deno_2)\n",
    "    return(z)\n",
    "}\n",
    "cor_list=c()                                                  \n",
    "\n",
    "    i<-first_term(ibm_data,msft_data)\n",
    "cor_list[[\"IBM:MSFT\"]]<-i\n",
    "    i<-first_term(ibm_data,goog_data)\n",
    "cor_list[[\"IBM:GOOG\"]]<-i\n",
    "    i<-first_term(ibm_data,aapl_data)\n",
    "cor_list[[\"IBM:AAPL\"]]<-i\n",
    "    i<-first_term(ibm_data,amzn_data)\n",
    "cor_list[[\"IBM:AMZN\"]]<-i\n",
    "    i<-first_term(ibm_data,fb_data)\n",
    "cor_list[[\"IBM:FB\"]]<-i\n",
    "    i<-first_term(msft_data,goog_data)\n",
    "cor_list[[\"MSFT:GOOG\"]]<-i\n",
    "    i<-first_term(msft_data,aapl_data)\n",
    "cor_list[[\"MSFT:AAPL\"]]<-i\n",
    "    i<-first_term(msft_data,amzn_data)\n",
    "cor_list[[\"MSFT:AMZN\"]]<-i\n",
    "    i<-first_term(msft_data,fb_data)\n",
    "cor_list[[\"MSFT:FB\"]]<-i\n",
    "    i<-first_term(goog_data,aapl_data)\n",
    "cor_list[[\"GOOG:AAPL\"]]<-i\n",
    "    i<-first_term(goog_data,amzn_data)\n",
    "cor_list[[\"GOOG:AMZN\"]]<-i\n",
    "    i<-first_term(goog_data,fb_data)\n",
    "cor_list[[\"GOOG:FB\"]]<-i\n",
    "    i<-first_term(aapl_data,amzn_data)\n",
    "cor_list[[\"AAPL:AMZN\"]]<-i\n",
    "    i<-first_term(aapl_data,fb_data)\n",
    "cor_list[[\"AAPL:FB\"]]<-i\n",
    "    i<-first_term(amzn_data,fb_data)\n",
    "cor_list[[\"AMZN:FB\"]]<-i\n",
    "\n",
    "\n"
   ]
  },
  {
   "cell_type": "code",
   "execution_count": 198,
   "metadata": {},
   "outputs": [
    {
     "data": {
      "text/html": [
       "<dl class=dl-horizontal>\n",
       "\t<dt>MSFT:AMZN</dt>\n",
       "\t\t<dd>0.872782282685389</dd>\n",
       "\t<dt>AAPL:AMZN</dt>\n",
       "\t\t<dd>0.840252870455017</dd>\n",
       "\t<dt>MSFT:AAPL</dt>\n",
       "\t\t<dd>0.786798251811008</dd>\n",
       "\t<dt>GOOG:AMZN</dt>\n",
       "\t\t<dd>0.66024658218356</dd>\n",
       "\t<dt>IBM:FB</dt>\n",
       "\t\t<dd>0.630365965017643</dd>\n",
       "\t<dt>GOOG:AAPL</dt>\n",
       "\t\t<dd>0.585818505913876</dd>\n",
       "\t<dt>GOOG:FB</dt>\n",
       "\t\t<dd>0.529201707074298</dd>\n",
       "\t<dt>MSFT:GOOG</dt>\n",
       "\t\t<dd>0.461302943926996</dd>\n",
       "\t<dt>IBM:GOOG</dt>\n",
       "\t\t<dd>0.427429705270519</dd>\n",
       "\t<dt>AMZN:FB</dt>\n",
       "\t\t<dd>0.053357796821324</dd>\n",
       "\t<dt>IBM:AAPL</dt>\n",
       "\t\t<dd>-0.0113201626657871</dd>\n",
       "\t<dt>AAPL:FB</dt>\n",
       "\t\t<dd>-0.0265447647570536</dd>\n",
       "\t<dt>IBM:AMZN</dt>\n",
       "\t\t<dd>-0.0941331506440246</dd>\n",
       "\t<dt>MSFT:FB</dt>\n",
       "\t\t<dd>-0.294114085601631</dd>\n",
       "\t<dt>IBM:MSFT</dt>\n",
       "\t\t<dd>-0.418371413863498</dd>\n",
       "</dl>\n"
      ],
      "text/latex": [
       "\\begin{description*}\n",
       "\\item[MSFT:AMZN] 0.872782282685389\n",
       "\\item[AAPL:AMZN] 0.840252870455017\n",
       "\\item[MSFT:AAPL] 0.786798251811008\n",
       "\\item[GOOG:AMZN] 0.66024658218356\n",
       "\\item[IBM:FB] 0.630365965017643\n",
       "\\item[GOOG:AAPL] 0.585818505913876\n",
       "\\item[GOOG:FB] 0.529201707074298\n",
       "\\item[MSFT:GOOG] 0.461302943926996\n",
       "\\item[IBM:GOOG] 0.427429705270519\n",
       "\\item[AMZN:FB] 0.053357796821324\n",
       "\\item[IBM:AAPL] -0.0113201626657871\n",
       "\\item[AAPL:FB] -0.0265447647570536\n",
       "\\item[IBM:AMZN] -0.0941331506440246\n",
       "\\item[MSFT:FB] -0.294114085601631\n",
       "\\item[IBM:MSFT] -0.418371413863498\n",
       "\\end{description*}\n"
      ],
      "text/markdown": [
       "MSFT:AMZN\n",
       ":   0.872782282685389AAPL:AMZN\n",
       ":   0.840252870455017MSFT:AAPL\n",
       ":   0.786798251811008GOOG:AMZN\n",
       ":   0.66024658218356IBM:FB\n",
       ":   0.630365965017643GOOG:AAPL\n",
       ":   0.585818505913876GOOG:FB\n",
       ":   0.529201707074298MSFT:GOOG\n",
       ":   0.461302943926996IBM:GOOG\n",
       ":   0.427429705270519AMZN:FB\n",
       ":   0.053357796821324IBM:AAPL\n",
       ":   -0.0113201626657871AAPL:FB\n",
       ":   -0.0265447647570536IBM:AMZN\n",
       ":   -0.0941331506440246MSFT:FB\n",
       ":   -0.294114085601631IBM:MSFT\n",
       ":   -0.418371413863498\n",
       "\n"
      ],
      "text/plain": [
       "  MSFT:AMZN   AAPL:AMZN   MSFT:AAPL   GOOG:AMZN      IBM:FB   GOOG:AAPL \n",
       " 0.87278228  0.84025287  0.78679825  0.66024658  0.63036597  0.58581851 \n",
       "    GOOG:FB   MSFT:GOOG    IBM:GOOG     AMZN:FB    IBM:AAPL     AAPL:FB \n",
       " 0.52920171  0.46130294  0.42742971  0.05335780 -0.01132016 -0.02654476 \n",
       "   IBM:AMZN     MSFT:FB    IBM:MSFT \n",
       "-0.09413315 -0.29411409 -0.41837141 "
      ]
     },
     "metadata": {},
     "output_type": "display_data"
    }
   ],
   "source": [
    "cor_list[order(cor_list,decreasing=TRUE)]"
   ]
  },
  {
   "cell_type": "code",
   "execution_count": 199,
   "metadata": {},
   "outputs": [
    {
     "data": {
      "text/html": [
       "<table>\n",
       "<thead><tr><th></th><th scope=col>MSFT</th></tr></thead>\n",
       "<tbody>\n",
       "\t<tr><th scope=row>IBM</th><td>-0.4183714</td></tr>\n",
       "</tbody>\n",
       "</table>\n"
      ],
      "text/latex": [
       "\\begin{tabular}{r|l}\n",
       "  & MSFT\\\\\n",
       "\\hline\n",
       "\tIBM & -0.4183714\\\\\n",
       "\\end{tabular}\n"
      ],
      "text/markdown": [
       "\n",
       "| <!--/--> | MSFT |\n",
       "|---|---|\n",
       "| IBM | -0.4183714 |\n",
       "\n"
      ],
      "text/plain": [
       "    MSFT      \n",
       "IBM -0.4183714"
      ]
     },
     "metadata": {},
     "output_type": "display_data"
    }
   ],
   "source": [
    "cor(ibm_data,msft_data,method=\"pearson\")"
   ]
  },
  {
   "cell_type": "code",
   "execution_count": 200,
   "metadata": {},
   "outputs": [
    {
     "data": {
      "text/html": [
       "<table>\n",
       "<thead><tr><th></th><th scope=col>GOOG</th></tr></thead>\n",
       "<tbody>\n",
       "\t<tr><th scope=row>IBM</th><td>0.4274297</td></tr>\n",
       "</tbody>\n",
       "</table>\n"
      ],
      "text/latex": [
       "\\begin{tabular}{r|l}\n",
       "  & GOOG\\\\\n",
       "\\hline\n",
       "\tIBM & 0.4274297\\\\\n",
       "\\end{tabular}\n"
      ],
      "text/markdown": [
       "\n",
       "| <!--/--> | GOOG |\n",
       "|---|---|\n",
       "| IBM | 0.4274297 |\n",
       "\n"
      ],
      "text/plain": [
       "    GOOG     \n",
       "IBM 0.4274297"
      ]
     },
     "metadata": {},
     "output_type": "display_data"
    }
   ],
   "source": [
    "cor(ibm_data,goog_data,method=\"pearson\")"
   ]
  },
  {
   "cell_type": "code",
   "execution_count": null,
   "metadata": {},
   "outputs": [],
   "source": []
  }
 ],
 "metadata": {
  "kernelspec": {
   "display_name": "R",
   "language": "R",
   "name": "ir"
  },
  "language_info": {
   "codemirror_mode": "r",
   "file_extension": ".r",
   "mimetype": "text/x-r-source",
   "name": "R",
   "pygments_lexer": "r",
   "version": "3.6.1"
  }
 },
 "nbformat": 4,
 "nbformat_minor": 4
}
