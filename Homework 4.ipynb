{
 "cells": [
  {
   "cell_type": "markdown",
   "metadata": {},
   "source": [
    "# Problem 1, Six Sigma"
   ]
  },
  {
   "cell_type": "code",
   "execution_count": 74,
   "metadata": {},
   "outputs": [
    {
     "name": "stderr",
     "output_type": "stream",
     "text": [
      "── Attaching packages ─────────────────────────────────────── tidyverse 1.3.0 ──\n",
      "✔ ggplot2 3.2.1     ✔ purrr   0.3.3\n",
      "✔ tibble  2.1.3     ✔ dplyr   0.8.4\n",
      "✔ tidyr   1.0.2     ✔ stringr 1.4.0\n",
      "✔ readr   1.3.1     ✔ forcats 0.4.0\n",
      "── Conflicts ────────────────────────────────────────── tidyverse_conflicts() ──\n",
      "✖ dplyr::filter() masks stats::filter()\n",
      "✖ dplyr::lag()    masks stats::lag()\n"
     ]
    }
   ],
   "source": [
    "library(tidyverse)"
   ]
  },
  {
   "cell_type": "markdown",
   "metadata": {},
   "source": [
    "Please write R code to verify the probabilities within σ, 2σ and 3σ as shown in the above graph"
   ]
  },
  {
   "cell_type": "code",
   "execution_count": 92,
   "metadata": {},
   "outputs": [
    {
     "name": "stdout",
     "output_type": "stream",
     "text": [
      "sigma1: 66.9 \n",
      "sigma2: 95 \n",
      "sigma3: 99.8 \n"
     ]
    }
   ],
   "source": [
    "\n",
    "numbers<-(rnorm(1000))\n",
    "\n",
    "m=mean(numbers)\n",
    "\n",
    "s=sd(numbers)\n",
    "\n",
    "sigma1=numbers[between(numbers, m-s, m+s)]\n",
    "sig1=(length(sigma1) * 100)/length(numbers)\n",
    "cat('sigma1:',sig1,\"\\n\")\n",
    "\n",
    "sigma2=numbers[between(numbers, m-(2*s), m+(2*s))]\n",
    "sig2=(length(sigma2) * 100)/length(numbers)\n",
    "cat('sigma2:',sig2,\"\\n\")\n",
    "\n",
    "\n",
    "sigma3=numbers[between(numbers, m-(3*s), m+(3*s))]\n",
    "sig3=(length(sigma3) * 100)/length(numbers)\n",
    "cat('sigma3:',sig3,\"\\n\")\n",
    "\n",
    "\n"
   ]
  },
  {
   "cell_type": "markdown",
   "metadata": {},
   "source": [
    "Write R code to find out, within how many σ, the probability is 99.99966%. Is it really 6σ?"
   ]
  },
  {
   "cell_type": "code",
   "execution_count": 93,
   "metadata": {},
   "outputs": [
    {
     "name": "stdout",
     "output_type": "stream",
     "text": [
      "sigma6: 100 \n"
     ]
    }
   ],
   "source": [
    "sigma6=numbers[between(numbers, m-(6*s), m+(6*s))]\n",
    "sig6=(length(sigma6) * 100)/length(numbers)\n",
    "cat('sigma6:',sig6,\"\\n\")"
   ]
  },
  {
   "cell_type": "markdown",
   "metadata": {},
   "source": [
    "# Problem 2, Job Search"
   ]
  },
  {
   "cell_type": "markdown",
   "metadata": {},
   "source": [
    "1. Please solve the problem by math. Use R mathematical expression to get the result."
   ]
  },
  {
   "cell_type": "code",
   "execution_count": 95,
   "metadata": {},
   "outputs": [
    {
     "data": {
      "text/html": [
       "0.633967658726771"
      ],
      "text/latex": [
       "0.633967658726771"
      ],
      "text/markdown": [
       "0.633967658726771"
      ],
      "text/plain": [
       "[1] 0.6339677"
      ]
     },
     "metadata": {},
     "output_type": "display_data"
    }
   ],
   "source": [
    "p_of_success=0.01\n",
    "n=100\n",
    "prob=1-((p_of_success)^0 *(1-p_of_success)^n)\n",
    "prob"
   ]
  },
  {
   "cell_type": "markdown",
   "metadata": {},
   "source": [
    "2. Analytic solution. Use R’s probability functions to solve the problem."
   ]
  },
  {
   "cell_type": "code",
   "execution_count": 128,
   "metadata": {},
   "outputs": [
    {
     "name": "stdout",
     "output_type": "stream",
     "text": [
      "probability for Analytic Solution: 0.6339677"
     ]
    }
   ],
   "source": [
    "\n",
    "p=1-dbinom(0,size=100,prob=0.01)\n",
    "cat('probability for Analytic Solution:',p)"
   ]
  },
  {
   "cell_type": "markdown",
   "metadata": {},
   "source": [
    "3. Answer by simulation. Use sampling function to simulate the process and estimate the answer."
   ]
  },
  {
   "cell_type": "code",
   "execution_count": 153,
   "metadata": {},
   "outputs": [
    {
     "name": "stdout",
     "output_type": "stream",
     "text": [
      "[1] 0.6339677\n"
     ]
    }
   ],
   "source": [
    "p_of_failure=1-0.01\n",
    "p_of_success=0.01\n",
    "print(1-pbinom(0, 100,.01))"
   ]
  },
  {
   "cell_type": "markdown",
   "metadata": {},
   "source": [
    "4. How many resumes in total do you have to spam so that you will have 90% chance to get atleast one job offer?"
   ]
  },
  {
   "cell_type": "code",
   "execution_count": 120,
   "metadata": {},
   "outputs": [
    {
     "name": "stdout",
     "output_type": "stream",
     "text": [
      "no of resumes 229"
     ]
    }
   ],
   "source": [
    "\n",
    "p_of_chance=0.90\n",
    "p_of_success=0.01\n",
    "\n",
    "n = log(1 - p_of_chance)/log(1 - p_of_success)\n",
    "cat('no of resumes',round(n))"
   ]
  },
  {
   "cell_type": "markdown",
   "metadata": {},
   "source": [
    "# Problem 3, President Election Polls"
   ]
  },
  {
   "cell_type": "markdown",
   "metadata": {},
   "source": [
    "1. Use binomial distribution"
   ]
  },
  {
   "cell_type": "code",
   "execution_count": 107,
   "metadata": {},
   "outputs": [
    {
     "name": "stdout",
     "output_type": "stream",
     "text": [
      "probability for bionomial distribution 1"
     ]
    }
   ],
   "source": [
    "size=1000\n",
    "\n",
    "probability=1-dbinom(599,size=1000,prob=0.5)\n",
    "cat('probability for bionomial distribution',probability)"
   ]
  },
  {
   "cell_type": "markdown",
   "metadata": {},
   "source": [
    "2. Use normal distribution as approximation."
   ]
  },
  {
   "cell_type": "code",
   "execution_count": 104,
   "metadata": {},
   "outputs": [
    {
     "name": "stdout",
     "output_type": "stream",
     "text": [
      "prob for normal approximation 1.908786e-10"
     ]
    }
   ],
   "source": [
    "n=1000\n",
    "p=0.5\n",
    "mean=n*p\n",
    "variance=mean * (1-p)\n",
    "\n",
    "prob3=1-pnorm(599, mean, sd=sqrt(variance)) \n",
    "cat('prob for normal approximation',prob3)"
   ]
  },
  {
   "cell_type": "code",
   "execution_count": 1,
   "metadata": {},
   "outputs": [
    {
     "data": {
      "text/html": [
       "7.69459862670642e-23"
      ],
      "text/latex": [
       "7.69459862670642e-23"
      ],
      "text/markdown": [
       "7.69459862670642e-23"
      ],
      "text/plain": [
       "[1] 7.694599e-23"
      ]
     },
     "metadata": {},
     "output_type": "display_data"
    }
   ],
   "source": [
    "dnorm(10)"
   ]
  },
  {
   "cell_type": "code",
   "execution_count": 2,
   "metadata": {},
   "outputs": [
    {
     "data": {
      "text/html": [
       "<ol class=list-inline>\n",
       "\t<li>-1.01870444977823</li>\n",
       "\t<li>-1.12315636754393</li>\n",
       "\t<li>-1.32612372404823</li>\n",
       "\t<li>2.21860335582156</li>\n",
       "\t<li>1.72704504968559</li>\n",
       "\t<li>-1.67897418920481</li>\n",
       "\t<li>0.358805071354046</li>\n",
       "\t<li>-1.74935041876151</li>\n",
       "\t<li>0.296489843898779</li>\n",
       "\t<li>-0.522978688560914</li>\n",
       "</ol>\n"
      ],
      "text/latex": [
       "\\begin{enumerate*}\n",
       "\\item -1.01870444977823\n",
       "\\item -1.12315636754393\n",
       "\\item -1.32612372404823\n",
       "\\item 2.21860335582156\n",
       "\\item 1.72704504968559\n",
       "\\item -1.67897418920481\n",
       "\\item 0.358805071354046\n",
       "\\item -1.74935041876151\n",
       "\\item 0.296489843898779\n",
       "\\item -0.522978688560914\n",
       "\\end{enumerate*}\n"
      ],
      "text/markdown": [
       "1. -1.01870444977823\n",
       "2. -1.12315636754393\n",
       "3. -1.32612372404823\n",
       "4. 2.21860335582156\n",
       "5. 1.72704504968559\n",
       "6. -1.67897418920481\n",
       "7. 0.358805071354046\n",
       "8. -1.74935041876151\n",
       "9. 0.296489843898779\n",
       "10. -0.522978688560914\n",
       "\n",
       "\n"
      ],
      "text/plain": [
       " [1] -1.0187044 -1.1231564 -1.3261237  2.2186034  1.7270450 -1.6789742\n",
       " [7]  0.3588051 -1.7493504  0.2964898 -0.5229787"
      ]
     },
     "metadata": {},
     "output_type": "display_data"
    }
   ],
   "source": [
    "rnorm(10)"
   ]
  },
  {
   "cell_type": "code",
   "execution_count": 3,
   "metadata": {},
   "outputs": [
    {
     "data": {
      "text/html": [
       "1"
      ],
      "text/latex": [
       "1"
      ],
      "text/markdown": [
       "1"
      ],
      "text/plain": [
       "[1] 1"
      ]
     },
     "metadata": {},
     "output_type": "display_data"
    }
   ],
   "source": [
    "pnorm(10)"
   ]
  }
 ],
 "metadata": {
  "kernelspec": {
   "display_name": "R",
   "language": "R",
   "name": "ir"
  },
  "language_info": {
   "codemirror_mode": "r",
   "file_extension": ".r",
   "mimetype": "text/x-r-source",
   "name": "R",
   "pygments_lexer": "r",
   "version": "3.6.1"
  }
 },
 "nbformat": 4,
 "nbformat_minor": 4
}
